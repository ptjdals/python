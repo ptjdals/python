{
 "cells": [
  {
   "cell_type": "code",
   "execution_count": 6,
   "metadata": {},
   "outputs": [
    {
     "data": {
      "text/plain": [
       "(1, 2, 3, 'a', 'bb', 'a')"
      ]
     },
     "execution_count": 6,
     "metadata": {},
     "output_type": "execute_result"
    }
   ],
   "source": [
    "#튜플 (요소, 요소, .....) 특징 : 수정불가능\n",
    "#용도, 함수의 리턴이 복수개일때 튜플로 \n",
    "t= (1,2,3, 'a','bb','a')\n",
    "t"
   ]
  },
  {
   "cell_type": "code",
   "execution_count": 4,
   "metadata": {},
   "outputs": [
    {
     "data": {
      "text/plain": [
       "2"
      ]
     },
     "execution_count": 4,
     "metadata": {},
     "output_type": "execute_result"
    }
   ],
   "source": [
    "t.count('a')"
   ]
  },
  {
   "cell_type": "code",
   "execution_count": 5,
   "metadata": {},
   "outputs": [
    {
     "data": {
      "text/plain": [
       "3"
      ]
     },
     "execution_count": 5,
     "metadata": {},
     "output_type": "execute_result"
    }
   ],
   "source": [
    "t.index('a')"
   ]
  },
  {
   "cell_type": "code",
   "execution_count": 8,
   "metadata": {},
   "outputs": [
    {
     "data": {
      "text/plain": [
       "{1, 2, 3, 'a', 'bb'}"
      ]
     },
     "execution_count": 8,
     "metadata": {},
     "output_type": "execute_result"
    }
   ],
   "source": [
    "s = set(t) # t를 set으로 변환하라\n",
    "s"
   ]
  },
  {
   "cell_type": "code",
   "execution_count": 9,
   "metadata": {},
   "outputs": [
    {
     "data": {
      "text/plain": [
       "[1, 2, 3, 'a', 'bb']"
      ]
     },
     "execution_count": 9,
     "metadata": {},
     "output_type": "execute_result"
    }
   ],
   "source": [
    "l = list(s) # list로 변환\n",
    "l"
   ]
  },
  {
   "cell_type": "code",
   "execution_count": 10,
   "metadata": {},
   "outputs": [
    {
     "data": {
      "text/plain": [
       "([1, 2, 3, 'a', 'bb', 'a'], {1, 2, 3, 'a', 'bb'}, (1, 2, 3, 'a', 'bb', 'a'))"
      ]
     },
     "execution_count": 10,
     "metadata": {},
     "output_type": "execute_result"
    }
   ],
   "source": [
    "list(t), set(t), tuple(t) #타입 변환이 매우 쉽다"
   ]
  },
  {
   "cell_type": "code",
   "execution_count": 27,
   "metadata": {},
   "outputs": [],
   "source": [
    "# 함수 만들기\n",
    "def add_3(a,b=10,c=1):\n",
    "    '''\n",
    "    문서화 : 이 함수는 값 3개를 더해서 리턴합니다\n",
    "    '''\n",
    "    return a+b+c"
   ]
  },
  {
   "cell_type": "code",
   "execution_count": 33,
   "metadata": {},
   "outputs": [
    {
     "data": {
      "text/plain": [
       "(111, 31)"
      ]
     },
     "execution_count": 33,
     "metadata": {},
     "output_type": "execute_result"
    }
   ],
   "source": [
    "add_3(a=100), add_3(a=10, b=20)"
   ]
  },
  {
   "cell_type": "code",
   "execution_count": 20,
   "metadata": {},
   "outputs": [],
   "source": [
    "#return 이 없는 함수\n",
    "import math\n",
    "def check_nan(x):\n",
    "    if math.isnan(x): # nan : not a number 숫자가 아니다. 0으로 나누거나 할대 발생\n",
    "        print(x, '는 nan 입니다.')\n",
    "    else:\n",
    "        print(x, '는 숫자입니다.')"
   ]
  },
  {
   "cell_type": "code",
   "execution_count": 21,
   "metadata": {},
   "outputs": [
    {
     "name": "stdout",
     "output_type": "stream",
     "text": [
      "100 는 숫자입니다.\n"
     ]
    }
   ],
   "source": [
    "check_nan(100)"
   ]
  },
  {
   "cell_type": "code",
   "execution_count": 23,
   "metadata": {},
   "outputs": [
    {
     "name": "stdout",
     "output_type": "stream",
     "text": [
      "100 는 숫자입니다.\n",
      "None\n"
     ]
    }
   ],
   "source": [
    "out = check_nan(100)\n",
    "print(out) # 리턴이 없는 함수에게 리턴을 강제로 받으면 None 이 리턴된다."
   ]
  },
  {
   "cell_type": "code",
   "execution_count": 48,
   "metadata": {},
   "outputs": [
    {
     "data": {
      "text/plain": [
       "(int, float, str)"
      ]
     },
     "execution_count": 48,
     "metadata": {},
     "output_type": "execute_result"
    }
   ],
   "source": [
    "type(3), type(3.14), type('aa')"
   ]
  },
  {
   "cell_type": "code",
   "execution_count": 49,
   "metadata": {},
   "outputs": [
    {
     "data": {
      "text/plain": [
       "(True, False)"
      ]
     },
     "execution_count": 49,
     "metadata": {},
     "output_type": "execute_result"
    }
   ],
   "source": [
    "#중복체크/정답 맞추건을 구현할때 사용\n",
    "a = [1,2,3,4,5]\n",
    "3 in a, 10 in a"
   ]
  },
  {
   "cell_type": "code",
   "execution_count": 102,
   "metadata": {},
   "outputs": [],
   "source": [
    "import random\n",
    "\n",
    "class Lotto:\n",
    "    '''\n",
    "    45개 전후의 숫자 중 6개를 맞추는 게임 : 1등 1~45의 숫자\n",
    "    '''\n",
    "    def __init__(self): # 함수의 첫번째 인자로 self를 넣어줍니다 JAVA의 this에 해당\n",
    "        print('로또 정답 생성자')\n",
    "        self.target = [] # self를 붙이면 클래스 변수가 된다.\n",
    "        for i in range(5):\n",
    "            v = random.randint(1,45) #중복번호가 나오면 다시 뽑기를 구현\n",
    "            while (v in self.target):\n",
    "                v = random.randint(1,45)\n",
    "            \n",
    "            self.target.append(v)\n",
    "        print(self.target)\n",
    "    \n",
    "    def select(self, nums):\n",
    "        print('정답', self.target, '예측', nums)\n",
    "        k = 0\n",
    "        \n",
    "        for i in range(5):\n",
    "            if nums[i] in self.target: # 내가 뽑은 번호가 정답이면 \n",
    "                k += 1 # 파이썬은 ++, -- 증감연산자가 없다\n",
    "        \n",
    "        if k == 5:\n",
    "            print('1등 당첨입니다.')\n",
    "        if k > 0:\n",
    "            print('축하합니다.', k, '개 맞췄습니다.')\n",
    "        else:\n",
    "            print('꽝입니다 하나도 못맞췄습니다.')"
   ]
  },
  {
   "cell_type": "code",
   "execution_count": 103,
   "metadata": {},
   "outputs": [
    {
     "name": "stdout",
     "output_type": "stream",
     "text": [
      "로또 정답 생성자\n",
      "[35, 30, 2, 44, 7]\n"
     ]
    },
    {
     "data": {
      "text/plain": [
       "<__main__.Lotto at 0x1a55f7b7668>"
      ]
     },
     "execution_count": 103,
     "metadata": {},
     "output_type": "execute_result"
    }
   ],
   "source": [
    "# 객체(인스턴스) 생성방법 \n",
    "lotto1 = Lotto()\n",
    "lotto1"
   ]
  },
  {
   "cell_type": "code",
   "execution_count": 106,
   "metadata": {},
   "outputs": [
    {
     "name": "stdout",
     "output_type": "stream",
     "text": [
      "정답 [35, 30, 2, 44, 7] 예측 [1, 2, 35, 4, 7, 6]\n",
      "축하합니다. 3 개 맞췄습니다.\n"
     ]
    }
   ],
   "source": [
    "#게임참여. 내가 숫자 5개를 선택하면 정답 중 맞춘 숫자갯수가 return된다\n",
    "lotto1.select([1,2,35,4,7,6])"
   ]
  },
  {
   "cell_type": "code",
   "execution_count": 108,
   "metadata": {},
   "outputs": [
    {
     "data": {
      "text/plain": [
       "(5, [1, 3, 5, 6, 8, 4])"
      ]
     },
     "execution_count": 108,
     "metadata": {},
     "output_type": "execute_result"
    }
   ],
   "source": [
    "my_nums = [[1,3,5,6,8,4], [10,20,30,40,33,11], [1,2,3,4,5,6], [11,23,22,25,41,26],[16,17,18,19,20,21]]\n",
    "len(my_nums) , my_nums[0] # len만큼 반복해서 lotto1.select 함수를 호출하면 됨"
   ]
  },
  {
   "cell_type": "code",
   "execution_count": 109,
   "metadata": {
    "scrolled": true
   },
   "outputs": [
    {
     "name": "stdout",
     "output_type": "stream",
     "text": [
      "정답 [35, 30, 2, 44, 7] 예측 [1, 3, 5, 6, 8, 4]\n",
      "꽝입니다 하나도 못맞췄습니다.\n",
      "정답 [35, 30, 2, 44, 7] 예측 [10, 20, 30, 40, 33, 11]\n",
      "축하합니다. 1 개 맞췄습니다.\n",
      "정답 [35, 30, 2, 44, 7] 예측 [1, 2, 3, 4, 5, 6]\n",
      "축하합니다. 1 개 맞췄습니다.\n",
      "정답 [35, 30, 2, 44, 7] 예측 [11, 23, 22, 25, 41, 26]\n",
      "꽝입니다 하나도 못맞췄습니다.\n",
      "정답 [35, 30, 2, 44, 7] 예측 [16, 17, 18, 19, 20, 21]\n",
      "꽝입니다 하나도 못맞췄습니다.\n"
     ]
    }
   ],
   "source": [
    "for i in range(len(my_nums)):\n",
    "    lotto1.select(my_nums[i])"
   ]
  },
  {
   "cell_type": "code",
   "execution_count": null,
   "metadata": {},
   "outputs": [],
   "source": []
  }
 ],
 "metadata": {
  "kernelspec": {
   "display_name": "Python 3",
   "language": "python",
   "name": "python3"
  },
  "language_info": {
   "codemirror_mode": {
    "name": "ipython",
    "version": 3
   },
   "file_extension": ".py",
   "mimetype": "text/x-python",
   "name": "python",
   "nbconvert_exporter": "python",
   "pygments_lexer": "ipython3",
   "version": "3.7.3"
  }
 },
 "nbformat": 4,
 "nbformat_minor": 2
}
