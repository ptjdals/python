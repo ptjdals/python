{
 "cells": [
  {
   "cell_type": "markdown",
   "metadata": {},
   "source": [
    "##### 문제1. 유임 승차 비율이 가장 높은 역은 어디일까"
   ]
  },
  {
   "cell_type": "code",
   "execution_count": 1,
   "metadata": {},
   "outputs": [],
   "source": [
    "import numpy as np\n",
    "import pandas as pd\n",
    "import matplotlib.pyplot as plt"
   ]
  },
  {
   "cell_type": "code",
   "execution_count": 7,
   "metadata": {},
   "outputs": [
    {
     "data": {
      "text/plain": [
       "(597, 9)"
      ]
     },
     "execution_count": 7,
     "metadata": {},
     "output_type": "execute_result"
    }
   ],
   "source": [
    "df = pd.read_csv('subwayfee.csv', encoding = 'cp949')\n",
    "df.shape"
   ]
  },
  {
   "cell_type": "code",
   "execution_count": 9,
   "metadata": {},
   "outputs": [],
   "source": [
    "df =df.replace(',', '', regex=True)\n",
    "df.dropna() #누락값이 있는 행은 버린다"
   ]
  },
  {
   "cell_type": "code",
   "execution_count": 12,
   "metadata": {},
   "outputs": [
    {
     "data": {
      "text/html": [
       "<div>\n",
       "<style scoped>\n",
       "    .dataframe tbody tr th:only-of-type {\n",
       "        vertical-align: middle;\n",
       "    }\n",
       "\n",
       "    .dataframe tbody tr th {\n",
       "        vertical-align: top;\n",
       "    }\n",
       "\n",
       "    .dataframe thead th {\n",
       "        text-align: right;\n",
       "    }\n",
       "</style>\n",
       "<table border=\"1\" class=\"dataframe\">\n",
       "  <thead>\n",
       "    <tr style=\"text-align: right;\">\n",
       "      <th></th>\n",
       "      <th>사용월</th>\n",
       "      <th>호선명</th>\n",
       "      <th>역ID</th>\n",
       "      <th>지하철역</th>\n",
       "      <th>유임승차</th>\n",
       "      <th>유임하차</th>\n",
       "      <th>무임승차</th>\n",
       "      <th>무임하차</th>\n",
       "      <th>작업일시</th>\n",
       "    </tr>\n",
       "  </thead>\n",
       "  <tbody>\n",
       "    <tr>\n",
       "      <th>0</th>\n",
       "      <td>2019-05</td>\n",
       "      <td>1호선</td>\n",
       "      <td>150</td>\n",
       "      <td>서울역</td>\n",
       "      <td>1568570</td>\n",
       "      <td>1489737</td>\n",
       "      <td>247801</td>\n",
       "      <td>242107</td>\n",
       "      <td>2019-06-03 10:56:20</td>\n",
       "    </tr>\n",
       "  </tbody>\n",
       "</table>\n",
       "</div>"
      ],
      "text/plain": [
       "       사용월  호선명  역ID 지하철역     유임승차     유임하차    무임승차    무임하차  \\\n",
       "0  2019-05  1호선  150  서울역  1568570  1489737  247801  242107   \n",
       "\n",
       "                  작업일시  \n",
       "0  2019-06-03 10:56:20  "
      ]
     },
     "execution_count": 12,
     "metadata": {},
     "output_type": "execute_result"
    }
   ],
   "source": [
    "df.head(1)"
   ]
  },
  {
   "cell_type": "code",
   "execution_count": 11,
   "metadata": {
    "scrolled": true
   },
   "outputs": [
    {
     "data": {
      "text/plain": [
       "((597, 9), array(['2019-05', '1호선', 150, '서울역', '1568570', '1489737', '247801',\n",
       "        '242107', '2019-06-03 10:56:20'], dtype=object))"
      ]
     },
     "execution_count": 11,
     "metadata": {},
     "output_type": "execute_result"
    }
   ],
   "source": [
    "arr = np.array(df)\n",
    "arr.shape, arr[0]"
   ]
  },
  {
   "cell_type": "code",
   "execution_count": 16,
   "metadata": {},
   "outputs": [
    {
     "data": {
      "text/plain": [
       "('강남', 2894341, 31)"
      ]
     },
     "execution_count": 16,
     "metadata": {},
     "output_type": "execute_result"
    }
   ],
   "source": [
    "유임승차 = arr[:, 4].astype(np.int)\n",
    "arr[np.argmax(유임승차), 3], np.max(유임승차), np.argmax(유임승차)"
   ]
  },
  {
   "cell_type": "markdown",
   "metadata": {},
   "source": [
    "유임승차 비율이 가장 높은 곳은?(유임승차인원/무임승차인원)"
   ]
  },
  {
   "cell_type": "code",
   "execution_count": 21,
   "metadata": {},
   "outputs": [
    {
     "data": {
      "text/plain": [
       "(array(['분당선', '복정'], dtype=object), 24.0, 237)"
      ]
     },
     "execution_count": 21,
     "metadata": {},
     "output_type": "execute_result"
    }
   ],
   "source": [
    "무임승차 = arr[:, 6].astype(np.int)\n",
    "유임승차비율 = 유임승차/(무임승차+1)\n",
    "arr[np.argmax(유임승차비율), 1:4:2], np.max(유임승차비율), np.argmax(유임승차비율)"
   ]
  },
  {
   "cell_type": "markdown",
   "metadata": {},
   "source": [
    "유무임 승하자 인원이 가장 많은 역은 어디일까"
   ]
  },
  {
   "cell_type": "code",
   "execution_count": 25,
   "metadata": {},
   "outputs": [
    {
     "data": {
      "text/plain": [
       "(array(['2호선', '강남'], dtype=object), 6234453, 31)"
      ]
     },
     "execution_count": 25,
     "metadata": {},
     "output_type": "execute_result"
    }
   ],
   "source": [
    "전체승하차인원 = arr[:, 4:8].astype(np.int)\n",
    "역이용인원 = np.sum(전체승하차인원, axis=1)\n",
    "arr[np.argmax(역이용인원), 1:4:2], np.max(역이용인원), np.argmax(역이용인원)"
   ]
  },
  {
   "cell_type": "markdown",
   "metadata": {},
   "source": [
    "모든 역의 유무임 승하차 비율은 어떻게 될까 > 파이(유임승차 45%, 무임하차 x%)\n"
   ]
  },
  {
   "cell_type": "code",
   "execution_count": 32,
   "metadata": {},
   "outputs": [
    {
     "data": {
      "image/png": "[encoded data removed]",
      "text/plain": [
       "<Figure size 432x288 with 1 Axes>"
      ]
     },
     "metadata": {},
     "output_type": "display_data"
    }
   ],
   "source": [
    "a= np.sum(arr[:, 4:8].astype(np.int), axis=0)\n",
    "plt.rc('font', family='Malgun Gothic')\n",
    "n= plt.pie(a, labels=df.columns[4:8], autopct='%.1f', explode=[0,0,0.1,0.1])\n",
    "plt.title('전체 지하철의 유무임 승차 비율')\n",
    "plt.savefig('all_subway_ratio.png')"
   ]
  },
  {
   "cell_type": "markdown",
   "metadata": {},
   "source": [
    "모든 역마다 유무임 승차 비율을 따로 파이 차트로 나타내기\n",
    "- 50만명 이상 승차하는 곳만"
   ]
  },
  {
   "cell_type": "code",
   "execution_count": 36,
   "metadata": {},
   "outputs": [],
   "source": [
    "for i in range(len(arr)):\n",
    "    row = arr[i]\n",
    "    승하차인원 = row[4:8].astype(np.int)\n",
    "    유임승차 = 승하차인원[0]\n",
    "    if 유임승차 > 1000000:\n",
    "        plt.rc('font', family='Malgun Gothic')\n",
    "        n= plt.pie(row[4:8], labels=df.columns[4:8], autopct='%.1f', explode=[0,0,0.1,0.1])\n",
    "        역이름 = row[3]\n",
    "        파일명 = 'subway_'+ 역이름 + '.png'\n",
    "        plt.title(역이름 + '역의 유무임 승차 비율')\n",
    "        plt.savefig(파일명)\n",
    "        plt.close()"
   ]
  },
  {
   "cell_type": "code",
   "execution_count": null,
   "metadata": {},
   "outputs": [],
   "source": []
  }
 ],
 "metadata": {
  "kernelspec": {
   "display_name": "Python 3",
   "language": "python",
   "name": "python3"
  },
  "language_info": {
   "codemirror_mode": {
    "name": "ipython",
    "version": 3
   },
   "file_extension": ".py",
   "mimetype": "text/x-python",
   "name": "python",
   "nbconvert_exporter": "python",
   "pygments_lexer": "ipython3",
   "version": "3.7.3"
  }
 },
 "nbformat": 4,
 "nbformat_minor": 2
}
