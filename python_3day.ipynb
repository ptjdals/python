{
 "cells": [
  {
   "cell_type": "markdown",
   "metadata": {},
   "source": [
    "- 단축키 ESC / Enter : 명령 모드/수정 모드\n",
    "- RUN : Ctrl/Shift/Art + Enter\n",
    "- 셀 지우기 : x\n",
    "- 코드/마크업 : Y/M"
   ]
  },
  {
   "cell_type": "markdown",
   "metadata": {},
   "source": [
    "파이썬 특징\n",
    "- 빌드없이 바로 실행하는 인터프리터, 스크립트"
   ]
  },
  {
   "cell_type": "code",
   "execution_count": 1,
   "metadata": {},
   "outputs": [
    {
     "data": {
      "text/plain": [
       "(4, 3, 1.5)"
      ]
     },
     "execution_count": 1,
     "metadata": {},
     "output_type": "execute_result"
    }
   ],
   "source": [
    "# // 몫만 정수로, ** 승수\n",
    "1+ 3, 1*3, 3/2"
   ]
  },
  {
   "cell_type": "code",
   "execution_count": 3,
   "metadata": {},
   "outputs": [
    {
     "data": {
      "text/plain": [
       "False"
      ]
     },
     "execution_count": 3,
     "metadata": {},
     "output_type": "execute_result"
    }
   ],
   "source": [
    "# 논리연산자\n",
    "# 여러줄 주석 '''''', \"\"\"\"\"\" 번거로우므로 보통 홑따옴표를 사용\n",
    "'''\n",
    "&& and\n",
    "|| or\n",
    "\n",
    "'''\n",
    "True or False\n",
    "not True"
   ]
  },
  {
   "cell_type": "code",
   "execution_count": 4,
   "metadata": {},
   "outputs": [
    {
     "name": "stdout",
     "output_type": "stream",
     "text": [
      "5>3\n",
      "5>3\n"
     ]
    }
   ],
   "source": [
    "#조건문, 보통 소괄호 없이 사용 합니다.\n",
    "if (5 > 3):\n",
    "    print('5>3')\n",
    "if 5 > 3:\n",
    "    print('5>3')    "
   ]
  },
  {
   "cell_type": "code",
   "execution_count": 7,
   "metadata": {},
   "outputs": [
    {
     "name": "stdout",
     "output_type": "stream",
     "text": [
      "0\n",
      "1\n",
      "2\n"
     ]
    }
   ],
   "source": [
    "# 반복문 기존 : 3항 연산자 반복문이 없다!!\n",
    "# for(int 1=0; 1< 3; 1++) {}\n",
    "for i in range(3): # 향상된 for문이라고 불리던 반복문\n",
    "        print(i)\n",
    "      "
   ]
  },
  {
   "cell_type": "code",
   "execution_count": 8,
   "metadata": {},
   "outputs": [
    {
     "name": "stdout",
     "output_type": "stream",
     "text": [
      "0.049282660974370285\n"
     ]
    }
   ],
   "source": [
    "# for 지정된 횟수만큼 반복 while 조건을 만족할때까지 반복\n",
    "import random\n",
    "# 0~1 랜덤값을 생성하는데 0.1보다 작은 값을 얻겠다.\n",
    "\n",
    "while (True):\n",
    "    v=random.random()\n",
    "    print(v)\n",
    "    if v < 0.1:\n",
    "        break"
   ]
  },
  {
   "cell_type": "code",
   "execution_count": 10,
   "metadata": {},
   "outputs": [],
   "source": [
    "# gkatn\n",
    "'''\n",
    "기존\n",
    "int add(int a, int b){\n",
    "    return a+b;\n",
    "}\n",
    "string add(string a, straing b){\n",
    "    return string.format('{0}{1}', a,b)\n",
    "\n",
    "}\n",
    "'''\n",
    "# 셀 하나에 함수를 정희하는 것이 깨끗합니다.\n",
    "def add(a, b):\n",
    "    return a+b"
   ]
  },
  {
   "cell_type": "code",
   "execution_count": 11,
   "metadata": {},
   "outputs": [
    {
     "data": {
      "text/plain": [
       "(4, 4.8, 'abc123')"
      ]
     },
     "execution_count": 11,
     "metadata": {},
     "output_type": "execute_result"
    }
   ],
   "source": [
    "add(1, 3), add(1.5, 3.3), add('abc', '123')"
   ]
  },
  {
   "cell_type": "code",
   "execution_count": 16,
   "metadata": {},
   "outputs": [],
   "source": [
    "# 클래스, 셀 하나에 정의하세요\n",
    "class Lotto:\n",
    "    def __init__(self, k): #생성자\n",
    "        nums= [] #지역변수(함수실행 완료되면 사라집니다.)\n",
    "        self.nums =[] #클래스변수(클래스가 제거되기 전까지 남습니다.)\n",
    "        for i in range(k):\n",
    "            self.nums.append(random.randint(1,45))    \n",
    "        print(self.nums)"
   ]
  },
  {
   "cell_type": "code",
   "execution_count": 17,
   "metadata": {},
   "outputs": [
    {
     "name": "stdout",
     "output_type": "stream",
     "text": [
      "[41, 3, 4]\n",
      "[17, 18, 4, 22, 32]\n"
     ]
    }
   ],
   "source": [
    "#객체생성\n",
    "lotto1 = Lotto(3)\n",
    "lotto2 = Lotto(5)"
   ]
  },
  {
   "cell_type": "code",
   "execution_count": 18,
   "metadata": {},
   "outputs": [
    {
     "data": {
      "text/plain": [
       "[41, 3, 4]"
      ]
     },
     "execution_count": 18,
     "metadata": {},
     "output_type": "execute_result"
    }
   ],
   "source": [
    "lotto1.nums # 클래스 변수를 .으로 접근해서 사용할 수 있습니다."
   ]
  },
  {
   "cell_type": "markdown",
   "metadata": {},
   "source": [
    "#데이터 타입\n",
    "- 딕셔너리{키:값, 키:값...}      !엑셀의 컬럼 이름:키, 컬럼의 값들:값\n",
    "- 리스트[값, 값, 값..] 수정가능  !언제든지 편리하게 데이터를 저장\n",
    "- 튜플(값, 값, 값..) 수정불가능  !함수에서 값들을 여러개 리턴할때"
   ]
  },
  {
   "cell_type": "code",
   "execution_count": 29,
   "metadata": {},
   "outputs": [
    {
     "data": {
      "text/plain": [
       "({'age': 30, 'city': 'seoul'},\n",
       " [10, 'a', 'city', [1, 2, 3]],\n",
       " (10, 'a', 'city', [1, 2, 3]))"
      ]
     },
     "execution_count": 29,
     "metadata": {},
     "output_type": "execute_result"
    }
   ],
   "source": [
    "d = {'age':30, 'city':'seoul'}\n",
    "ㅣ= [10, 'a', 'city', [1,2,3]]\n",
    "t = (10, 'a', 'city', [1,2,3])\n",
    "d, ㅣ, t"
   ]
  },
  {
   "cell_type": "code",
   "execution_count": 30,
   "metadata": {},
   "outputs": [
    {
     "data": {
      "text/plain": [
       "(10, [1, 2, 3], ['a', 'city'])"
      ]
     },
     "execution_count": 30,
     "metadata": {},
     "output_type": "execute_result"
    }
   ],
   "source": [
    "# 인덱스, 인덱싱\n",
    "# 0을 인덱스라고 하고 반드시 정수여야 합니다.\n",
    "# 인덱스로 값을 꺼내는 것을 인덱싱한다고 합니다.\n",
    "# -1 뒤에서 첫번재 위치\n",
    "#[시작위치: 끝위치(전까지)], [생략:생략]\n",
    "ㅣ[0], ㅣ[-1], ㅣ[1:3]"
   ]
  },
  {
   "cell_type": "code",
   "execution_count": 31,
   "metadata": {},
   "outputs": [
    {
     "data": {
      "text/plain": [
       "[1, 2, 3, 4, 5, 6]"
      ]
     },
     "execution_count": 31,
     "metadata": {},
     "output_type": "execute_result"
    }
   ],
   "source": [
    "# 요소들끼리 더하고 싶다 : element wise  add\n",
    "[1,2,3] + [4,5,6]"
   ]
  },
  {
   "cell_type": "code",
   "execution_count": 32,
   "metadata": {},
   "outputs": [
    {
     "data": {
      "text/plain": [
       "(1, 2, 3, 4, 5, 6)"
      ]
     },
     "execution_count": 32,
     "metadata": {},
     "output_type": "execute_result"
    }
   ],
   "source": [
    "(1,2,3) + (4,5,6)"
   ]
  },
  {
   "cell_type": "markdown",
   "metadata": {},
   "source": [
    "List, Dict, Set 연산용으로 사용이 불가능, 메모리 사용량이 크고 느립니다"
   ]
  },
  {
   "cell_type": "code",
   "execution_count": 40,
   "metadata": {},
   "outputs": [],
   "source": [
    "import numpy as np"
   ]
  },
  {
   "cell_type": "code",
   "execution_count": 41,
   "metadata": {},
   "outputs": [
    {
     "data": {
      "text/plain": [
       "(array([1, 2, 3, 4, 5, 6, 7, 8, 9]), array([1, 3, 5, 7, 9]))"
      ]
     },
     "execution_count": 41,
     "metadata": {},
     "output_type": "execute_result"
    }
   ],
   "source": [
    "#배열 만들기\n",
    "#함수 사용시 shift+Tab 로 설명을 봅니다.\n",
    "numpy.arange(1,10), numpy.arange(1,10,2)"
   ]
  },
  {
   "cell_type": "code",
   "execution_count": 42,
   "metadata": {},
   "outputs": [
    {
     "data": {
      "text/plain": [
       "array([5, 7, 9])"
      ]
     },
     "execution_count": 42,
     "metadata": {},
     "output_type": "execute_result"
    }
   ],
   "source": [
    "# 데이터를 numpy 배열로 변환하면 연산이 됩니다.\n",
    "np.array([1,2,3]) + np.array([4,5,6])"
   ]
  },
  {
   "cell_type": "markdown",
   "metadata": {},
   "source": [
    "야후 파이낸스의 SP500 주식 데이터를 읽습니다.\n",
    "csv 혹은 pandas로 읽을 수 있습니다."
   ]
  },
  {
   "cell_type": "code",
   "execution_count": 43,
   "metadata": {},
   "outputs": [],
   "source": [
    "import pandas"
   ]
  },
  {
   "cell_type": "code",
   "execution_count": 47,
   "metadata": {},
   "outputs": [
    {
     "data": {
      "text/plain": [
       "(20, 7)"
      ]
     },
     "execution_count": 47,
     "metadata": {},
     "output_type": "execute_result"
    }
   ],
   "source": [
    "stock = pandas.read_csv('^GSPC.csv')\n",
    "stock.shape"
   ]
  },
  {
   "cell_type": "code",
   "execution_count": 48,
   "metadata": {},
   "outputs": [
    {
     "data": {
      "text/plain": [
       "(20, 7)"
      ]
     },
     "execution_count": 48,
     "metadata": {},
     "output_type": "execute_result"
    }
   ],
   "source": [
    "arr = np.array(stock)\n",
    "arr.shape"
   ]
  },
  {
   "cell_type": "code",
   "execution_count": 55,
   "metadata": {},
   "outputs": [
    {
     "data": {
      "text/plain": [
       "array([ True,  True,  True,  True,  True,  True,  True])"
      ]
     },
     "execution_count": 55,
     "metadata": {},
     "output_type": "execute_result"
    }
   ],
   "source": [
    "arr[0] == arr[0, :]# 첫번째 행"
   ]
  },
  {
   "cell_type": "code",
   "execution_count": 54,
   "metadata": {},
   "outputs": [
    {
     "data": {
      "text/plain": [
       "('2019-05-20', 1579314342)"
      ]
     },
     "execution_count": 54,
     "metadata": {},
     "output_type": "execute_result"
    }
   ],
   "source": [
    "arr[0,0], arr[-1,-1] #첫번째 행의 첫번째 열, 마지막행의 마지막열"
   ]
  },
  {
   "cell_type": "code",
   "execution_count": 57,
   "metadata": {},
   "outputs": [
    {
     "data": {
      "text/plain": [
       "array([2841.939941, 2854.02002, 2856.060059, 2836.699951, 2832.409912,\n",
       "       2830.030029, 2790.25, 2786.939941, 2766.149902, 2751.530029,\n",
       "       2762.639893, 2818.090088, 2828.51001, 2852.8701170000004,\n",
       "       2885.830078, 2903.27002, 2882.72998, 2886.23999, 2886.820068,\n",
       "       2889.75], dtype=object)"
      ]
     },
     "execution_count": 57,
     "metadata": {},
     "output_type": "execute_result"
    }
   ],
   "source": [
    "# Open 만 가져오자\n",
    "o = arr[:, 1]\n",
    "o"
   ]
  },
  {
   "cell_type": "code",
   "execution_count": 61,
   "metadata": {},
   "outputs": [
    {
     "data": {
      "text/plain": [
       "(2903.27002,\n",
       " 2751.530029,\n",
       " 2903.27002,\n",
       " 2751.530029,\n",
       " 2837.1390014000003,\n",
       " 2839.319946,\n",
       " 45.016996538592394)"
      ]
     },
     "execution_count": 61,
     "metadata": {},
     "output_type": "execute_result"
    }
   ],
   "source": [
    "# b(below) 아래쪽에 셀 만들기\n",
    "# open 의 최대값, 최소값, 평균을 구해보자\n",
    "# 내장 함수 : import 없이 바로 사용 가능한 함수\n",
    "# 통계치, 평균, 중간값, 표준편차\n",
    "max(o), min(o), np.max(o), np.min(o), np.mean(o), np.median(o), np.std(o)"
   ]
  },
  {
   "cell_type": "code",
   "execution_count": null,
   "metadata": {},
   "outputs": [],
   "source": []
  },
  {
   "cell_type": "code",
   "execution_count": null,
   "metadata": {},
   "outputs": [],
   "source": []
  },
  {
   "cell_type": "code",
   "execution_count": 58,
   "metadata": {},
   "outputs": [
    {
     "data": {
      "text/plain": [
       "array([2840.22998, 2864.360107, 2856.27002, 2822.23999, 2826.060059,\n",
       "       2802.389893, 2783.02002, 2788.860107, 2752.060059, 2744.449951,\n",
       "       2803.27002, 2826.149902, 2843.48999, 2873.340088, 2886.72998,\n",
       "       2885.719971, 2879.840088, 2891.639893, 2886.97998, 2889.669922],\n",
       "      dtype=object)"
      ]
     },
     "execution_count": 58,
     "metadata": {},
     "output_type": "execute_result"
    }
   ],
   "source": [
    "# Close 를 가져오자\n",
    "close = arr[:, 4] #도 가능하지만\n",
    "close = arr[:, -3] #이 편합니다.\n",
    "close"
   ]
  },
  {
   "cell_type": "code",
   "execution_count": 62,
   "metadata": {},
   "outputs": [
    {
     "data": {
      "text/plain": [
       "(20, 4)"
      ]
     },
     "execution_count": 62,
     "metadata": {},
     "output_type": "execute_result"
    }
   ],
   "source": [
    "# Open High Low Close 4개의 컬럼만 뽑자\n",
    "# [시작:끝]\n",
    "v4 = arr[:, 1:5]\n",
    "v4.shape"
   ]
  },
  {
   "cell_type": "markdown",
   "metadata": {},
   "source": [
    "축 : axis\n",
    "2차원 데이터는 2개의 축이 있습니다. 행축, 열축"
   ]
  },
  {
   "cell_type": "code",
   "execution_count": 66,
   "metadata": {},
   "outputs": [
    {
     "data": {
      "text/plain": [
       "array([2903.27002, 2910.610107, 2887.300049, 2891.639893], dtype=object)"
      ]
     },
     "execution_count": 66,
     "metadata": {},
     "output_type": "execute_result"
    }
   ],
   "source": [
    "np.max(v4, axis=0) "
   ]
  },
  {
   "cell_type": "code",
   "execution_count": 69,
   "metadata": {},
   "outputs": [
    {
     "data": {
      "text/plain": [
       "(2903.27002, 15)"
      ]
     },
     "execution_count": 69,
     "metadata": {},
     "output_type": "execute_result"
    }
   ],
   "source": [
    "# arg_max, arg_min 맥스값의 위치\n",
    "np.max(o), np.argmax(o)"
   ]
  },
  {
   "cell_type": "markdown",
   "metadata": {},
   "source": [
    "주가가 가장 많이 상승한 날짜를 찾아보세요(정답 : x번째 행입니다.)"
   ]
  },
  {
   "cell_type": "code",
   "execution_count": 73,
   "metadata": {},
   "outputs": [
    {
     "data": {
      "text/plain": [
       "(40.6301269999999, 10, '2019-06-04')"
      ]
     },
     "execution_count": 73,
     "metadata": {},
     "output_type": "execute_result"
    }
   ],
   "source": [
    "day = arr[:,0]\n",
    "v1 = arr[:,4]\n",
    "v2 = arr[:,1]\n",
    "gap = v1-v2\n",
    "np.max(gap), np.argmax(gap), day[np.argmax(gap)]"
   ]
  },
  {
   "cell_type": "markdown",
   "metadata": {},
   "source": [
    " ##### 데이터 분석\n",
    " - 가격 상승하는 날 거래량이 많이 질까?\n",
    " - 전날 가격이 상승하면 다음날 시작가격은 더 높은 가격에서 시작할까?\n",
    " - 가격 변동이 크면 거래량도 많아질까?"
   ]
  },
  {
   "cell_type": "raw",
   "metadata": {},
   "source": [
    "###### 다음단계 : 예측\n",
    " - 어제/오늘 현황 분석이 끝났는데 내일은 Open/Close 이 어떻게 될까\n",
    " - 방법 : 1. 통계적(R) 2. 머신러닝"
   ]
  },
  {
   "cell_type": "code",
   "execution_count": 79,
   "metadata": {},
   "outputs": [],
   "source": [
    "# 가격이 상승하는날 거래량이 많아질까?\n",
    "# > 상승한 날의 거래량 / 하락한 날의 거래량\n",
    "v1 = arr[:,4]\n",
    "v2 = arr[:,1]\n",
    "vol = arr[:, -1]\n",
    "gap = v1-v2"
   ]
  },
  {
   "cell_type": "code",
   "execution_count": 80,
   "metadata": {},
   "outputs": [
    {
     "data": {
      "text/plain": [
       "(3286227000.0, 3397639434.2)"
      ]
     },
     "execution_count": 80,
     "metadata": {},
     "output_type": "execute_result"
    }
   ],
   "source": [
    "# 상승한 날의 거래량의 평균\n",
    "np.mean(vol[gap> 0]), np.mean(vol[gap < 0])"
   ]
  },
  {
   "cell_type": "code",
   "execution_count": 81,
   "metadata": {},
   "outputs": [
    {
     "data": {
      "text/plain": [
       "False"
      ]
     },
     "execution_count": 81,
     "metadata": {},
     "output_type": "execute_result"
    }
   ],
   "source": [
    "# 상승한 날의 거래량이 더 많은지?\n",
    "np.mean(vol[gap> 0]) > np.mean(vol[gap < 0])"
   ]
  },
  {
   "cell_type": "code",
   "execution_count": 77,
   "metadata": {},
   "outputs": [
    {
     "data": {
      "text/plain": [
       "array([False,  True, False,  True])"
      ]
     },
     "execution_count": 77,
     "metadata": {},
     "output_type": "execute_result"
    }
   ],
   "source": [
    "# 조건부 검색\n",
    "a= np.array([1,2,3,4])\n",
    "even = a%2==0 # 짝수값만 뽑고 싶다\n",
    "even # 불린 마스크"
   ]
  },
  {
   "cell_type": "code",
   "execution_count": 78,
   "metadata": {},
   "outputs": [
    {
     "data": {
      "text/plain": [
       "array([2, 4])"
      ]
     },
     "execution_count": 78,
     "metadata": {},
     "output_type": "execute_result"
    }
   ],
   "source": [
    "#불린 마스크를 인덱스로 사용하면 True값 만 뽑힙니다.\n",
    "a[even]"
   ]
  },
  {
   "cell_type": "code",
   "execution_count": 82,
   "metadata": {},
   "outputs": [],
   "source": [
    "import numpy as np"
   ]
  },
  {
   "cell_type": "code",
   "execution_count": 83,
   "metadata": {},
   "outputs": [],
   "source": [
    "a = np.array([1,2,3])"
   ]
  },
  {
   "cell_type": "code",
   "execution_count": 85,
   "metadata": {},
   "outputs": [
    {
     "data": {
      "text/plain": [
       "(array([1, 2, 3]), dtype('int32'), (3,))"
      ]
     },
     "execution_count": 85,
     "metadata": {},
     "output_type": "execute_result"
    }
   ],
   "source": [
    "a, a.dtype, a.shape"
   ]
  },
  {
   "cell_type": "code",
   "execution_count": 87,
   "metadata": {},
   "outputs": [
    {
     "data": {
      "text/plain": [
       "array([[[0, 0, 0, 0],\n",
       "        [0, 0, 0, 0],\n",
       "        [0, 0, 0, 0]],\n",
       "\n",
       "       [[0, 0, 0, 0],\n",
       "        [0, 0, 0, 0],\n",
       "        [0, 0, 0, 0]]])"
      ]
     },
     "execution_count": 87,
     "metadata": {},
     "output_type": "execute_result"
    }
   ],
   "source": [
    "np.zeros(shape=(2,3,4), dtype=np.int32)"
   ]
  },
  {
   "cell_type": "code",
   "execution_count": 91,
   "metadata": {},
   "outputs": [
    {
     "data": {
      "text/plain": [
       "array([[[1, 1],\n",
       "        [1, 1],\n",
       "        [1, 1]],\n",
       "\n",
       "       [[1, 1],\n",
       "        [1, 1],\n",
       "        [1, 1]],\n",
       "\n",
       "       [[1, 1],\n",
       "        [1, 1],\n",
       "        [1, 1]],\n",
       "\n",
       "       [[1, 1],\n",
       "        [1, 1],\n",
       "        [1, 1]]])"
      ]
     },
     "execution_count": 91,
     "metadata": {},
     "output_type": "execute_result"
    }
   ],
   "source": [
    "np.ones(shape=(4,3,2), dtype=np.int32)"
   ]
  },
  {
   "cell_type": "code",
   "execution_count": 92,
   "metadata": {},
   "outputs": [
    {
     "data": {
      "text/plain": [
       "array([[1., 0., 0., 0.],\n",
       "       [0., 1., 0., 0.],\n",
       "       [0., 0., 1., 0.],\n",
       "       [0., 0., 0., 1.]])"
      ]
     },
     "execution_count": 92,
     "metadata": {},
     "output_type": "execute_result"
    }
   ],
   "source": [
    "np.eye(4)"
   ]
  },
  {
   "cell_type": "code",
   "execution_count": 94,
   "metadata": {
    "scrolled": true
   },
   "outputs": [
    {
     "data": {
      "text/plain": [
       "array([0, 3, 6, 9])"
      ]
     },
     "execution_count": 94,
     "metadata": {},
     "output_type": "execute_result"
    }
   ],
   "source": [
    "#사용빈드 순위 zeros, ones, arange\n",
    "np.arange(0,10,3)"
   ]
  },
  {
   "cell_type": "code",
   "execution_count": 96,
   "metadata": {},
   "outputs": [
    {
     "data": {
      "text/plain": [
       "array([ 1.  ,  3.25,  5.5 ,  7.75, 10.  ])"
      ]
     },
     "execution_count": 96,
     "metadata": {},
     "output_type": "execute_result"
    }
   ],
   "source": [
    "np.linspace(1,10,5) # 시작값, 끝값, 등분"
   ]
  },
  {
   "cell_type": "code",
   "execution_count": 97,
   "metadata": {},
   "outputs": [
    {
     "data": {
      "text/plain": [
       "array([  0.        ,  33.33333333,  66.66666667, 100.        ])"
      ]
     },
     "execution_count": 97,
     "metadata": {},
     "output_type": "execute_result"
    }
   ],
   "source": [
    "# width 100m, 건물 3채\n",
    "np.linspace(0,100,4)"
   ]
  },
  {
   "cell_type": "code",
   "execution_count": 98,
   "metadata": {},
   "outputs": [
    {
     "data": {
      "text/plain": [
       "array([150. , 162.5, 175. , 187.5, 200. ])"
      ]
     },
     "execution_count": 98,
     "metadata": {},
     "output_type": "execute_result"
    }
   ],
   "source": [
    "np.linspace(150, 200, 5)"
   ]
  },
  {
   "cell_type": "code",
   "execution_count": 99,
   "metadata": {},
   "outputs": [
    {
     "data": {
      "text/plain": [
       "3"
      ]
     },
     "execution_count": 99,
     "metadata": {},
     "output_type": "execute_result"
    }
   ],
   "source": [
    "import random\n",
    "random.randint(1,10)"
   ]
  },
  {
   "cell_type": "code",
   "execution_count": 100,
   "metadata": {},
   "outputs": [
    {
     "data": {
      "text/plain": [
       "array([[0.9891697 , 0.27278133, 0.13860369],\n",
       "       [0.96406783, 0.57878996, 0.17903496]])"
      ]
     },
     "execution_count": 100,
     "metadata": {},
     "output_type": "execute_result"
    }
   ],
   "source": [
    "np.random.rand(2,3)"
   ]
  },
  {
   "cell_type": "code",
   "execution_count": 102,
   "metadata": {},
   "outputs": [
    {
     "data": {
      "text/plain": [
       "array([[ 0.0147792 ,  0.39817528, -0.96899503],\n",
       "       [-0.18230306,  1.30450065, -0.36756232]])"
      ]
     },
     "execution_count": 102,
     "metadata": {},
     "output_type": "execute_result"
    }
   ],
   "source": [
    "np.random.normal(size=(2,3)) # 종모양의 정규분포, 평균값이 많이 뽑힙니다."
   ]
  },
  {
   "cell_type": "code",
   "execution_count": 103,
   "metadata": {},
   "outputs": [
    {
     "data": {
      "text/plain": [
       "array([[1, 3, 1],\n",
       "       [1, 9, 8]])"
      ]
     },
     "execution_count": 103,
     "metadata": {},
     "output_type": "execute_result"
    }
   ],
   "source": [
    "np.random.randint(low=1, high=10, size=(2,3))"
   ]
  },
  {
   "cell_type": "code",
   "execution_count": 104,
   "metadata": {},
   "outputs": [
    {
     "data": {
      "text/plain": [
       "array([[0.68894806, 0.70920018, 0.8500576 ],\n",
       "       [0.23142368, 0.51622618, 0.0323712 ]])"
      ]
     },
     "execution_count": 104,
     "metadata": {},
     "output_type": "execute_result"
    }
   ],
   "source": [
    "np.random.uniform(size=(2,3)) #전체값에서 균등하게 뽑힙니다. 제어가능"
   ]
  },
  {
   "cell_type": "code",
   "execution_count": 106,
   "metadata": {},
   "outputs": [
    {
     "data": {
      "text/plain": [
       "array([[2., 2.],\n",
       "       [2., 2.],\n",
       "       [2., 2.]])"
      ]
     },
     "execution_count": 106,
     "metadata": {},
     "output_type": "execute_result"
    }
   ],
   "source": [
    "a = np.ones(shape=(3,2), dtype=np.int)\n",
    "b = np.ones(shape=(3,1), dtype=np.float) # broadcasting\n",
    "a + b"
   ]
  },
  {
   "cell_type": "code",
   "execution_count": 110,
   "metadata": {},
   "outputs": [
    {
     "data": {
      "text/plain": [
       "array([0, 1, 2, 3, 4, 5])"
      ]
     },
     "execution_count": 110,
     "metadata": {},
     "output_type": "execute_result"
    }
   ],
   "source": [
    "# 행우선으로 저장됩니다.\n",
    "a= np.arange(6)\n",
    "a"
   ]
  },
  {
   "cell_type": "code",
   "execution_count": 114,
   "metadata": {},
   "outputs": [
    {
     "data": {
      "text/plain": [
       "'\\nFortran, R은 기본방향이 열방향\\n[[0.3]\\n[1.4]\\n[2.5]]\\n'"
      ]
     },
     "execution_count": 114,
     "metadata": {},
     "output_type": "execute_result"
    }
   ],
   "source": [
    "b = a.reshape((2,3))\n",
    "b\n",
    "'''\n",
    "Fortran, R은 기본방향이 열방향\n",
    "[[0.3]\n",
    "[1.4]\n",
    "[2.5]]\n",
    "'''\n"
   ]
  },
  {
   "cell_type": "code",
   "execution_count": 117,
   "metadata": {},
   "outputs": [
    {
     "data": {
      "text/plain": [
       "(2, (2, 3), 6, dtype('int32'), 24)"
      ]
     },
     "execution_count": 117,
     "metadata": {},
     "output_type": "execute_result"
    }
   ],
   "source": [
    "#차원 갯수, 모양, 총 요소 갯수, 데이터타입, 메모리 사용량 \n",
    "b.ndim, b.shape, b.size, b.dtype, b.nbytes"
   ]
  },
  {
   "cell_type": "code",
   "execution_count": 118,
   "metadata": {},
   "outputs": [
    {
     "data": {
      "text/plain": [
       "array([0, 1, 2, 3, 4, 5])"
      ]
     },
     "execution_count": 118,
     "metadata": {},
     "output_type": "execute_result"
    }
   ],
   "source": [
    "b.flatten() # 1차원으로 변환 flatten:평면화"
   ]
  },
  {
   "cell_type": "code",
   "execution_count": 119,
   "metadata": {},
   "outputs": [
    {
     "data": {
      "text/plain": [
       "array([[0, 1, 2],\n",
       "       [3, 4, 5],\n",
       "       [6, 7, 8]])"
      ]
     },
     "execution_count": 119,
     "metadata": {},
     "output_type": "execute_result"
    }
   ],
   "source": [
    "# slicing : 데이터 자르기\n",
    "a = np.arange(9).reshape((3,3))\n",
    "a"
   ]
  },
  {
   "cell_type": "markdown",
   "metadata": {},
   "source": [
    "a에서 다음 원소들을 잘라주세요\n",
    "- [1,4,7]\n",
    "- [6,7,8]\n",
    "- [1,2,4,5,7,8]\n",
    "- [4,5,7,8]"
   ]
  },
  {
   "cell_type": "code",
   "execution_count": 129,
   "metadata": {},
   "outputs": [
    {
     "data": {
      "text/plain": [
       "(array([1, 4, 7]),\n",
       " array([6, 7, 8]),\n",
       " array([1, 2, 4, 5, 7, 8]),\n",
       " array([4, 5, 7, 8]))"
      ]
     },
     "execution_count": 129,
     "metadata": {},
     "output_type": "execute_result"
    }
   ],
   "source": [
    "a[:,1], a[2,:],a[:,1:].flatten(),  a[1:, 1:].flatten()"
   ]
  },
  {
   "cell_type": "code",
   "execution_count": 131,
   "metadata": {},
   "outputs": [
    {
     "data": {
      "text/plain": [
       "array([[ 0,  1,  2,  3],\n",
       "       [ 4,  5,  6,  7],\n",
       "       [ 8,  9, 10, 11]])"
      ]
     },
     "execution_count": 131,
     "metadata": {},
     "output_type": "execute_result"
    }
   ],
   "source": [
    "# slicing : 데이터 자르기\n",
    "b = np.arange(12).reshape((3,4))\n",
    "b"
   ]
  },
  {
   "cell_type": "markdown",
   "metadata": {},
   "source": [
    "b에서 아래 요소/원소(element)를 잘라 주세요\n",
    "- [5,6,9,10]\n",
    "- [9,10,11]"
   ]
  },
  {
   "cell_type": "code",
   "execution_count": 136,
   "metadata": {},
   "outputs": [
    {
     "data": {
      "text/plain": [
       "(array([ 5,  6,  9, 10]), array([ 9, 10, 11]))"
      ]
     },
     "execution_count": 136,
     "metadata": {},
     "output_type": "execute_result"
    }
   ],
   "source": [
    "b[1:,1:-1].flatten(), b[2,1:]"
   ]
  },
  {
   "cell_type": "code",
   "execution_count": 147,
   "metadata": {},
   "outputs": [
    {
     "data": {
      "text/plain": [
       "array([[[ 0,  1,  2,  3],\n",
       "        [ 4,  5,  6,  7],\n",
       "        [ 8,  9, 10, 11]],\n",
       "\n",
       "       [[12, 13, 14, 15],\n",
       "        [16, 17, 18, 19],\n",
       "        [20, 21, 22, 23]]])"
      ]
     },
     "execution_count": 147,
     "metadata": {},
     "output_type": "execute_result"
    }
   ],
   "source": [
    "# 3차원\n",
    "c = np.arange(2*3*4).reshape((2,3,4))\n",
    "c"
   ]
  },
  {
   "cell_type": "code",
   "execution_count": 158,
   "metadata": {},
   "outputs": [
    {
     "data": {
      "text/plain": [
       "(array([ 6, 10]), array([17, 18, 19]), array([13, 14, 17, 18]))"
      ]
     },
     "execution_count": 158,
     "metadata": {},
     "output_type": "execute_result"
    }
   ],
   "source": [
    "# [6, 10], [17,18,19], [13,14,17,18]\n",
    "c[0, 1:, 2], c[1, 1, 1:], c[1, 0:-1, 1:-1].flatten()"
   ]
  },
  {
   "cell_type": "code",
   "execution_count": 146,
   "metadata": {},
   "outputs": [
    {
     "data": {
      "text/plain": [
       "(array([0, 1, 2, 3]),\n",
       " array([12, 13, 14, 15]),\n",
       " array([1, 5, 9]),\n",
       " array([15, 19, 23]))"
      ]
     },
     "execution_count": 146,
     "metadata": {},
     "output_type": "execute_result"
    }
   ],
   "source": [
    "# [0, 1, 2, 3], [12, 13, 14, 15], [1, 5, 9]\n",
    "c[0, 0, :], c[1, 0, :], c[0, :, 1], c[1, :, -1]"
   ]
  },
  {
   "cell_type": "code",
   "execution_count": 163,
   "metadata": {},
   "outputs": [
    {
     "data": {
      "text/plain": [
       "(array([[ 0,  1,  2,  3],\n",
       "        [ 4,  5,  6,  7],\n",
       "        [ 8,  9, 10, 11],\n",
       "        [12, 13, 14, 15],\n",
       "        [16, 17, 18, 19],\n",
       "        [20, 21, 22, 23]]), array([[ 0,  1,  2,  3],\n",
       "        [ 4,  5,  6,  7],\n",
       "        [ 8,  9, 10, 11],\n",
       "        [12, 13, 14, 15],\n",
       "        [16, 17, 18, 19],\n",
       "        [20, 21, 22, 23]]))"
      ]
     },
     "execution_count": 163,
     "metadata": {},
     "output_type": "execute_result"
    }
   ],
   "source": [
    "c.shape\n",
    "c.reshape((6,4)), np.reshape(c,(6,4))"
   ]
  },
  {
   "cell_type": "code",
   "execution_count": 161,
   "metadata": {},
   "outputs": [
    {
     "data": {
      "text/plain": [
       "array([[ 0,  1,  2,  3,  4,  5,  6,  7,  8,  9, 10, 11],\n",
       "       [12, 13, 14, 15, 16, 17, 18, 19, 20, 21, 22, 23]])"
      ]
     },
     "execution_count": 161,
     "metadata": {},
     "output_type": "execute_result"
    }
   ],
   "source": [
    "c.reshape((2,-1)) # -1 알아서 맞춰라"
   ]
  },
  {
   "cell_type": "code",
   "execution_count": 165,
   "metadata": {},
   "outputs": [
    {
     "data": {
      "text/plain": [
       "(array([[0, 1, 2],\n",
       "        [3, 4, 5]]), array([[ 6,  7,  8],\n",
       "        [ 9, 10, 11]]))"
      ]
     },
     "execution_count": 165,
     "metadata": {},
     "output_type": "execute_result"
    }
   ],
   "source": [
    "a =  np.arange(6).reshape(2,3)\n",
    "b =  np.arange(6,12).reshape(2,3)\n",
    "a, b"
   ]
  },
  {
   "cell_type": "code",
   "execution_count": 168,
   "metadata": {},
   "outputs": [
    {
     "data": {
      "text/plain": [
       "((2, 3), (6, 3), array([[ 0,  1,  2],\n",
       "        [ 3,  4,  5],\n",
       "        [ 6,  7,  8],\n",
       "        [ 9, 10, 11],\n",
       "        [ 0,  1,  2],\n",
       "        [ 3,  4,  5]]))"
      ]
     },
     "execution_count": 168,
     "metadata": {},
     "output_type": "execute_result"
    }
   ],
   "source": [
    "# 두 배열을 붙입니다. concatenate == concat\n",
    "c = np.concatenate((a,b,a), axis=0)\n",
    "a.shape, c.shape, c"
   ]
  },
  {
   "cell_type": "code",
   "execution_count": 170,
   "metadata": {},
   "outputs": [
    {
     "data": {
      "text/plain": [
       "array([[ 0,  1,  2,  6,  7,  8,  0,  1,  2],\n",
       "       [ 3,  4,  5,  9, 10, 11,  3,  4,  5]])"
      ]
     },
     "execution_count": 170,
     "metadata": {},
     "output_type": "execute_result"
    }
   ],
   "source": [
    "c = np.concatenate((a,b,a), axis=1)\n",
    "c"
   ]
  },
  {
   "cell_type": "markdown",
   "metadata": {},
   "source": [
    "data0 = data1.csv\n",
    "data1 = data2.csv\n",
    "data = np.concatenate((data0, data1), axis=0)"
   ]
  },
  {
   "cell_type": "code",
   "execution_count": 171,
   "metadata": {},
   "outputs": [
    {
     "data": {
      "text/plain": [
       "((2, 3), (2, 3))"
      ]
     },
     "execution_count": 171,
     "metadata": {},
     "output_type": "execute_result"
    }
   ],
   "source": [
    "# stack 쌓다\n",
    "a.shape, b.shape"
   ]
  },
  {
   "cell_type": "code",
   "execution_count": 175,
   "metadata": {
    "scrolled": true
   },
   "outputs": [
    {
     "data": {
      "text/plain": [
       "array([[[ 0,  1,  2],\n",
       "        [ 3,  4,  5]],\n",
       "\n",
       "       [[ 6,  7,  8],\n",
       "        [ 9, 10, 11]],\n",
       "\n",
       "       [[ 0,  1,  2],\n",
       "        [ 3,  4,  5]]])"
      ]
     },
     "execution_count": 175,
     "metadata": {},
     "output_type": "execute_result"
    }
   ],
   "source": [
    "c = np.stack((a,b,a), axis=0) # axis를 지정한 곳에 배열들이 쌓입니다.\n",
    "c\n",
    "# axis = 0 (4,2,3)\n",
    "# axis = 1 (2,4,3)\n",
    "# axis = 2 (2,3,4)"
   ]
  },
  {
   "cell_type": "code",
   "execution_count": 174,
   "metadata": {
    "scrolled": true
   },
   "outputs": [
    {
     "data": {
      "text/plain": [
       "((2, 3), (2, 3), (3, 2, 3))"
      ]
     },
     "execution_count": 174,
     "metadata": {},
     "output_type": "execute_result"
    }
   ],
   "source": [
    "# stack 쌓다, 쌓이면 차원이 1 증가합니다\n",
    "a.shape, b.shape, c.shape"
   ]
  },
  {
   "cell_type": "code",
   "execution_count": 176,
   "metadata": {},
   "outputs": [
    {
     "data": {
      "text/plain": [
       "array([[80, 70],\n",
       "       [90, 50],\n",
       "       [99, 60]])"
      ]
     },
     "execution_count": 176,
     "metadata": {},
     "output_type": "execute_result"
    }
   ],
   "source": [
    "#stack 활용 예\n",
    "#[첫번재 학생, 두번째 학생, 세번째 학생]\n",
    "kor = [80, 90, 99]\n",
    "eng = [70, 50, 60]\n",
    "score = np.stack((kor,eng), axis= 1)\n",
    "score"
   ]
  },
  {
   "cell_type": "code",
   "execution_count": 179,
   "metadata": {},
   "outputs": [
    {
     "data": {
      "text/plain": [
       "array([[20],\n",
       "       [30],\n",
       "       [40]])"
      ]
     },
     "execution_count": 179,
     "metadata": {},
     "output_type": "execute_result"
    }
   ],
   "source": [
    "math = np.array([20, 30, 40]).reshape((3,1))\n",
    "math"
   ]
  },
  {
   "cell_type": "code",
   "execution_count": 185,
   "metadata": {},
   "outputs": [
    {
     "data": {
      "text/plain": [
       "array([[80, 70, 20],\n",
       "       [90, 50, 30],\n",
       "       [99, 60, 40]])"
      ]
     },
     "execution_count": 185,
     "metadata": {},
     "output_type": "execute_result"
    }
   ],
   "source": [
    "#score1 = np.stack((score, math), axis=1)\n",
    "score1 = np.concatenate((score, math), axis=1)\n",
    "score1"
   ]
  },
  {
   "cell_type": "code",
   "execution_count": 190,
   "metadata": {},
   "outputs": [
    {
     "data": {
      "text/plain": [
       "array([[100,  90,  90]])"
      ]
     },
     "execution_count": 190,
     "metadata": {},
     "output_type": "execute_result"
    }
   ],
   "source": [
    "# 4번째 학생의 국영수 점수가 추가됐습니다.\n",
    "# 모든 데이터를 하나로 통합하세요\n",
    "score_4 = np.array([100,90,90]).reshape((1,3))\n",
    "score_4"
   ]
  },
  {
   "cell_type": "code",
   "execution_count": 196,
   "metadata": {},
   "outputs": [
    {
     "data": {
      "text/plain": [
       "array([[ 80,  70,  20],\n",
       "       [ 90,  50,  30],\n",
       "       [ 99,  60,  40],\n",
       "       [100,  90,  90]])"
      ]
     },
     "execution_count": 196,
     "metadata": {},
     "output_type": "execute_result"
    }
   ],
   "source": [
    "score5 = np.concatenate((score1, score_4), axis=0)\n",
    "score5"
   ]
  },
  {
   "cell_type": "code",
   "execution_count": 203,
   "metadata": {},
   "outputs": [
    {
     "data": {
      "text/plain": [
       "(array([92.25, 67.5 , 45.  ]), 93.33333333333333)"
      ]
     },
     "execution_count": 203,
     "metadata": {},
     "output_type": "execute_result"
    }
   ],
   "source": [
    "# 각 과목별 평균은?\n",
    "# 시험을 가장 잘본 학생의 평균 점수는?\n",
    "np.average(score5, axis=0), np.max(np.average(score5, axis=1))"
   ]
  },
  {
   "cell_type": "code",
   "execution_count": 205,
   "metadata": {},
   "outputs": [
    {
     "data": {
      "text/plain": [
       "92.25"
      ]
     },
     "execution_count": 205,
     "metadata": {},
     "output_type": "execute_result"
    }
   ],
   "source": [
    "# 3과목 평균중 가장 높은 점수는?\n",
    "np.max(np.average(score5, axis=0))"
   ]
  },
  {
   "cell_type": "code",
   "execution_count": 208,
   "metadata": {},
   "outputs": [
    {
     "data": {
      "text/plain": [
       "array([[ 80,  70,  20],\n",
       "       [ 90,  50,  30],\n",
       "       [ 99,  60,  40],\n",
       "       [100,  90,  90]])"
      ]
     },
     "execution_count": 208,
     "metadata": {},
     "output_type": "execute_result"
    }
   ],
   "source": [
    "score5"
   ]
  },
  {
   "cell_type": "code",
   "execution_count": 209,
   "metadata": {},
   "outputs": [],
   "source": [
    "# save\n",
    "#np.save() #binary file in NumPy ''.npy\n",
    "#(%10.5f)  '%.2f':소수점 2번째 자리까지 %d 정수만\n",
    "np.savetxt('score_sample.txt', score5, '%d') #text file."
   ]
  },
  {
   "cell_type": "code",
   "execution_count": 211,
   "metadata": {},
   "outputs": [
    {
     "data": {
      "text/plain": [
       "array([[ 80,  70,  20],\n",
       "       [ 90,  50,  30],\n",
       "       [ 99,  60,  40],\n",
       "       [100,  90,  90]])"
      ]
     },
     "execution_count": 211,
     "metadata": {},
     "output_type": "execute_result"
    }
   ],
   "source": [
    "# read, open, load\n",
    "s = np.loadtxt('score_sample.txt', dtype = 'int')\n",
    "s"
   ]
  },
  {
   "cell_type": "code",
   "execution_count": 213,
   "metadata": {},
   "outputs": [
    {
     "data": {
      "text/plain": [
       "array([[ 20,  70,  80],\n",
       "       [ 30,  50,  90],\n",
       "       [ 40,  60,  99],\n",
       "       [ 90,  90, 100]])"
      ]
     },
     "execution_count": 213,
     "metadata": {},
     "output_type": "execute_result"
    }
   ],
   "source": [
    "s[:, ::-1] # 시작부터 끝까지 거꾸로"
   ]
  },
  {
   "cell_type": "code",
   "execution_count": 215,
   "metadata": {},
   "outputs": [
    {
     "data": {
      "text/plain": [
       "array([[ 80,  20],\n",
       "       [ 90,  30],\n",
       "       [ 99,  40],\n",
       "       [100,  90]])"
      ]
     },
     "execution_count": 215,
     "metadata": {},
     "output_type": "execute_result"
    }
   ],
   "source": [
    "s[:, ::2] # 시작부터 끝까지 스텝(간격)2"
   ]
  },
  {
   "cell_type": "code",
   "execution_count": 216,
   "metadata": {},
   "outputs": [
    {
     "data": {
      "text/plain": [
       "array([0, 1, 2, 3, 4, 5, 6, 7, 8, 9])"
      ]
     },
     "execution_count": 216,
     "metadata": {},
     "output_type": "execute_result"
    }
   ],
   "source": [
    "a= np.arange(10)\n",
    "a"
   ]
  },
  {
   "cell_type": "code",
   "execution_count": 219,
   "metadata": {},
   "outputs": [
    {
     "data": {
      "text/plain": [
       "(array([0, 2, 4, 6, 8]), array([1, 3, 5, 7, 9]), array([2, 4]))"
      ]
     },
     "execution_count": 219,
     "metadata": {},
     "output_type": "execute_result"
    }
   ],
   "source": [
    "#시작부터 끝까지 2칸씩 띄면서 = 짝수\n",
    "#1번째 요소부터 끝까지 2칸씩 띄면서 = 홀수\n",
    "#2번째 요소부터 6번재 요소까지 2칸씩 띄면서\n",
    "#[시작:끝:간격] 생략하면 시작=처음부터, 끝:끝, 간격:1\n",
    "a[::2], a[1::2], a[2:6:2]"
   ]
  },
  {
   "cell_type": "code",
   "execution_count": 221,
   "metadata": {},
   "outputs": [
    {
     "data": {
      "text/plain": [
       "[array([0, 1, 2]), array([3, 4, 5]), array([6, 7, 8, 9])]"
      ]
     },
     "execution_count": 221,
     "metadata": {},
     "output_type": "execute_result"
    }
   ],
   "source": [
    "# 분리하기\n",
    "np.split(a,[3,6]) # 3, 6 위치를 잘라라"
   ]
  },
  {
   "cell_type": "code",
   "execution_count": 224,
   "metadata": {},
   "outputs": [
    {
     "data": {
      "text/plain": [
       "[array([0, 1, 2, 3, 4]), array([5, 6, 7, 8, 9])]"
      ]
     },
     "execution_count": 224,
     "metadata": {},
     "output_type": "execute_result"
    }
   ],
   "source": [
    "#분리하기 section 갯수\n",
    "#머신러닝에서 데이터 셋을 k 개 분리해서 k-fold validation set 을 만든다\n",
    "#k = 3 이라면, 데이터를 3개로 분리해서 2개는 셋은 학습, 1개 셋은 테스트로 사용\n",
    "'''\n",
    "ABC\n",
    "학습 : AB  테스트 : C\n",
    "학습 : BC  테스트 : A\n",
    "학습 : AC  테스트 : B\n",
    "'''\n",
    "np.split(a,2)"
   ]
  },
  {
   "cell_type": "markdown",
   "metadata": {},
   "source": [
    "#####브로드 캐스팅\n",
    "배열의 모양이 서로 다를 때 연산이 가능하게 해주는 기능"
   ]
  },
  {
   "cell_type": "code",
   "execution_count": 226,
   "metadata": {},
   "outputs": [
    {
     "data": {
      "text/plain": [
       "array([ 0,  2,  4,  6,  8, 10, 12, 14, 16, 18])"
      ]
     },
     "execution_count": 226,
     "metadata": {},
     "output_type": "execute_result"
    }
   ],
   "source": [
    "a * 2 # 브로드 캐스팅이 적용 되어서 연산 가능"
   ]
  },
  {
   "cell_type": "code",
   "execution_count": 229,
   "metadata": {},
   "outputs": [
    {
     "data": {
      "text/plain": [
       "array([[ 0,  0,  0],\n",
       "       [10, 10, 10],\n",
       "       [20, 20, 20],\n",
       "       [30, 30, 30]])"
      ]
     },
     "execution_count": 229,
     "metadata": {},
     "output_type": "execute_result"
    }
   ],
   "source": [
    "a = np.array([0, 10, 20, 30])\n",
    "a= np.stack((a,a,a), 1)\n",
    "a"
   ]
  },
  {
   "cell_type": "code",
   "execution_count": 230,
   "metadata": {},
   "outputs": [
    {
     "data": {
      "text/plain": [
       "array([0, 1, 2])"
      ]
     },
     "execution_count": 230,
     "metadata": {},
     "output_type": "execute_result"
    }
   ],
   "source": [
    "#배열 복제 np.repeat, np.tile\n",
    "b = np.array([0,1,2])\n",
    "b"
   ]
  },
  {
   "cell_type": "code",
   "execution_count": 231,
   "metadata": {},
   "outputs": [
    {
     "data": {
      "text/plain": [
       "((4, 3), (3,))"
      ]
     },
     "execution_count": 231,
     "metadata": {},
     "output_type": "execute_result"
    }
   ],
   "source": [
    "a.shape, b.shape"
   ]
  },
  {
   "cell_type": "code",
   "execution_count": 232,
   "metadata": {},
   "outputs": [
    {
     "data": {
      "text/plain": [
       "array([[ 0,  1,  2],\n",
       "       [10, 11, 12],\n",
       "       [20, 21, 22],\n",
       "       [30, 31, 32]])"
      ]
     },
     "execution_count": 232,
     "metadata": {},
     "output_type": "execute_result"
    }
   ],
   "source": [
    "a + b"
   ]
  },
  {
   "cell_type": "code",
   "execution_count": 234,
   "metadata": {
    "scrolled": true
   },
   "outputs": [
    {
     "data": {
      "text/plain": [
       "array([[ 0,  1,  2],\n",
       "       [10, 11, 12],\n",
       "       [20, 21, 22],\n",
       "       [30, 31, 32]])"
      ]
     },
     "execution_count": 234,
     "metadata": {},
     "output_type": "execute_result"
    }
   ],
   "source": [
    "c = np.array([0, 10, 20, 30]).reshape((4,1))\n",
    "d = np.array([0, 1, 2])\n",
    "c + d"
   ]
  },
  {
   "cell_type": "code",
   "execution_count": 237,
   "metadata": {},
   "outputs": [
    {
     "data": {
      "text/plain": [
       "False"
      ]
     },
     "execution_count": 237,
     "metadata": {},
     "output_type": "execute_result"
    }
   ],
   "source": [
    "7 == 3"
   ]
  },
  {
   "cell_type": "code",
   "execution_count": 247,
   "metadata": {},
   "outputs": [
    {
     "data": {
      "text/plain": [
       "(array([0, 1, 2, 3, 4, 5, 6, 7]), array([1, 2, 3, 4, 5, 6, 7, 8]))"
      ]
     },
     "execution_count": 247,
     "metadata": {},
     "output_type": "execute_result"
    }
   ],
   "source": [
    "a = np.arange(8)\n",
    "b = np.arange(1, 9)\n",
    "a, b"
   ]
  },
  {
   "cell_type": "code",
   "execution_count": 253,
   "metadata": {},
   "outputs": [
    {
     "data": {
      "text/plain": [
       "array([False, False, False,  True,  True,  True,  True,  True])"
      ]
     },
     "execution_count": 253,
     "metadata": {},
     "output_type": "execute_result"
    }
   ],
   "source": [
    "mask = a > 2\n",
    "mask"
   ]
  },
  {
   "cell_type": "code",
   "execution_count": 254,
   "metadata": {},
   "outputs": [
    {
     "data": {
      "text/plain": [
       "array([3, 4, 5, 6, 7])"
      ]
     },
     "execution_count": 254,
     "metadata": {},
     "output_type": "execute_result"
    }
   ],
   "source": [
    "# True 인 값만 선택됩니다. boolean mask 를 이용한 indexing\n",
    "a[mask]"
   ]
  },
  {
   "cell_type": "code",
   "execution_count": 255,
   "metadata": {},
   "outputs": [
    {
     "data": {
      "text/plain": [
       "array([ True,  True,  True, False, False, False, False, False])"
      ]
     },
     "execution_count": 255,
     "metadata": {},
     "output_type": "execute_result"
    }
   ],
   "source": [
    "np.logical_not(mask)"
   ]
  },
  {
   "cell_type": "code",
   "execution_count": 256,
   "metadata": {},
   "outputs": [
    {
     "data": {
      "text/plain": [
       "(array([ True, False,  True, False,  True, False,  True, False]),\n",
       " array([False, False, False,  True,  True,  True,  True,  True]))"
      ]
     },
     "execution_count": 256,
     "metadata": {},
     "output_type": "execute_result"
    }
   ],
   "source": [
    "# 짝수이면서 2보다 큰 값을 뽑으셍 ㅣㅐ햧미_뭉, [mask] 를 이용해서\n",
    "mask0 = a % 2 ==0\n",
    "mask1 = a > 2\n",
    "mask0, mask1"
   ]
  },
  {
   "cell_type": "code",
   "execution_count": 257,
   "metadata": {},
   "outputs": [
    {
     "data": {
      "text/plain": [
       "array([False, False, False, False,  True, False,  True, False])"
      ]
     },
     "execution_count": 257,
     "metadata": {},
     "output_type": "execute_result"
    }
   ],
   "source": [
    "mask = np.logical_and(mask0, mask1)\n",
    "mask"
   ]
  },
  {
   "cell_type": "code",
   "execution_count": 258,
   "metadata": {},
   "outputs": [
    {
     "data": {
      "text/plain": [
       "array([4, 6])"
      ]
     },
     "execution_count": 258,
     "metadata": {},
     "output_type": "execute_result"
    }
   ],
   "source": [
    "a[mask]"
   ]
  },
  {
   "cell_type": "code",
   "execution_count": 259,
   "metadata": {},
   "outputs": [
    {
     "data": {
      "text/plain": [
       "array([0, 1, 2, 3, 4, 5, 6, 7])"
      ]
     },
     "execution_count": 259,
     "metadata": {},
     "output_type": "execute_result"
    }
   ],
   "source": [
    "# 정렬\n",
    "np.sort(a)"
   ]
  },
  {
   "cell_type": "code",
   "execution_count": 262,
   "metadata": {},
   "outputs": [
    {
     "data": {
      "text/plain": [
       "array([7, 6, 5, 4, 3, 2, 1, 0])"
      ]
     },
     "execution_count": 262,
     "metadata": {},
     "output_type": "execute_result"
    }
   ],
   "source": [
    "np.sort(a)[::-1]"
   ]
  },
  {
   "cell_type": "markdown",
   "metadata": {},
   "source": [
    "주식 데이터 2개를 받아서 concatenate 로 붙이세요\n",
    "df = pandas.read_csv() 로 파일 읽고\n",
    "arr0 = np.array(df[]) 필요한 숫자 부분만\n",
    "arr = np.concatenate((arr0, arr1), axis = 0)"
   ]
  },
  {
   "cell_type": "code",
   "execution_count": 317,
   "metadata": {},
   "outputs": [
    {
     "data": {
      "text/plain": [
       "((251, 7), (251, 7))"
      ]
     },
     "execution_count": 317,
     "metadata": {},
     "output_type": "execute_result"
    }
   ],
   "source": [
    "data1 = pandas.read_csv('^DJI (1).csv')\n",
    "data2 = pandas.read_csv('^DJI.csv')\n",
    "data1.shape, data2.shape"
   ]
  },
  {
   "cell_type": "code",
   "execution_count": 318,
   "metadata": {},
   "outputs": [
    {
     "data": {
      "text/plain": [
       "(502, 7)"
      ]
     },
     "execution_count": 318,
     "metadata": {},
     "output_type": "execute_result"
    }
   ],
   "source": [
    "arr1 = np.array(data1)\n",
    "arr2 = np.array(data2)\n",
    "arr = np.concatenate((arr1, arr2), axis = 0)\n",
    "arr.shape"
   ]
  },
  {
   "cell_type": "code",
   "execution_count": 319,
   "metadata": {},
   "outputs": [
    {
     "data": {
      "text/plain": [
       "array(['2017-06-19', 21444.75, 21528.990234, 21436.080078, 21528.990234,\n",
       "       21528.990234, 289400000], dtype=object)"
      ]
     },
     "execution_count": 319,
     "metadata": {},
     "output_type": "execute_result"
    }
   ],
   "source": [
    "arr[0]"
   ]
  },
  {
   "cell_type": "markdown",
   "metadata": {},
   "source": [
    "- 각 컬럼의 평균값을 구합니다.\n",
    "- 가격변동(Close-Open)이 가장 큰 때가 언제(날짜)를 알고 싶다"
   ]
  },
  {
   "cell_type": "code",
   "execution_count": 320,
   "metadata": {},
   "outputs": [
    {
     "data": {
      "text/plain": [
       "array([24525.28574773502, 24642.69233621509, 24399.540595495997,\n",
       "       24527.33647838843, 24527.33647838843, 332232888.44621515],\n",
       "      dtype=object)"
      ]
     },
     "execution_count": 320,
     "metadata": {},
     "output_type": "execute_result"
    }
   ],
   "source": [
    "np.mean(arr[:,1:], axis=0) "
   ]
  },
  {
   "cell_type": "code",
   "execution_count": 321,
   "metadata": {},
   "outputs": [
    {
     "data": {
      "text/plain": [
       "(1041.8398430000016, '2018-02-08')"
      ]
     },
     "execution_count": 321,
     "metadata": {},
     "output_type": "execute_result"
    }
   ],
   "source": [
    "Close = arr[:, 4]\n",
    "Open = arr[:, 1]\n",
    "Gap = np.abs(Close - Open) # 절대값을 구하세요. 아니면 가격이 가장 많이 상승한 날이 조회됩니다.\n",
    "index = np.argmax(Gap) # 변동이 가장 큰 행 번호\n",
    "np.max(Gap), arr[index, 0] # 변동이 가장 큰 행의 날짜 정보"
   ]
  },
  {
   "cell_type": "markdown",
   "metadata": {},
   "source": [
    "4장 기본 그래드 그리기 P55"
   ]
  },
  {
   "cell_type": "code",
   "execution_count": 322,
   "metadata": {},
   "outputs": [],
   "source": [
    "import matplotlib.pyplot as plt"
   ]
  },
  {
   "cell_type": "code",
   "execution_count": 323,
   "metadata": {},
   "outputs": [
    {
     "data": {
      "text/plain": [
       "[<matplotlib.lines.Line2D at 0x20f71f5a4e0>]"
      ]
     },
     "execution_count": 323,
     "metadata": {},
     "output_type": "execute_result"
    },
    {
     "data": {
      "image/png": "[encoded data removed]",
      "text/plain": [
       "<Figure size 432x288 with 1 Axes>"
      ]
     },
     "metadata": {
      "needs_background": "light"
     },
     "output_type": "display_data"
    }
   ],
   "source": [
    "\n",
    "plt.plot([10,20,30,40])\n",
    "#plt.show() # print 안해도 출력되듯아 show() 하지 않아도 그려집니다."
   ]
  },
  {
   "cell_type": "code",
   "execution_count": 330,
   "metadata": {},
   "outputs": [
    {
     "data": {
      "image/png": "[encoded data removed]",
      "text/plain": [
       "<Figure size 432x288 with 1 Axes>"
      ]
     },
     "metadata": {
      "needs_background": "light"
     },
     "output_type": "display_data"
    }
   ],
   "source": [
    "plt.title('plotting')\n",
    "plt.plot([1,2,3,4], [12,43,25,15], 'r.',label='A' ) # X, Y\n",
    "plt.plot([1,2,3,4], [20,44,55,10], label='B', color='red', linestyle=':') \n",
    "plt.plot([1,2,3,4], [1,5,10,30], 'g^', label='C', linestyle='--') \n",
    "plt.legend() # 범례 그려라 p61\n",
    "plt.show()"
   ]
  },
  {
   "cell_type": "code",
   "execution_count": 341,
   "metadata": {},
   "outputs": [],
   "source": [
    "Open = arr[:,1]\n",
    "High = arr[:,2]\n",
    "Low = arr[:,3]\n",
    "Close = arr[:,4]\n",
    "Vol = arr[:,-1]"
   ]
  },
  {
   "cell_type": "code",
   "execution_count": 349,
   "metadata": {},
   "outputs": [
    {
     "data": {
      "text/plain": [
       "<matplotlib.legend.Legend at 0x20f6d2814e0>"
      ]
     },
     "execution_count": 349,
     "metadata": {},
     "output_type": "execute_result"
    },
    {
     "data": {
      "image/png": "[encoded data removed]",
      "text/plain": [
       "<Figure size 2880x720 with 1 Axes>"
      ]
     },
     "metadata": {
      "needs_background": "light"
     },
     "output_type": "display_data"
    }
   ],
   "source": [
    "plt.figure(figsize=(40,10)) # 인치 (width, height)\n",
    "plt.title('Dow Jones 2017.06~2019.06')\n",
    "plt.plot(Open, linestyle='--', label='Open')\n",
    "plt.plot(High, linestyle=':', label='High')\n",
    "plt.plot(Low, 'r.', label='Low')\n",
    "plt.plot(Close, 'g^', label='Close')\n",
    "plt.legend() # 범례 그려라 p61"
   ]
  },
  {
   "cell_type": "code",
   "execution_count": 328,
   "metadata": {},
   "outputs": [
    {
     "data": {
      "text/plain": [
       "[<matplotlib.lines.Line2D at 0x20f70726518>,\n",
       " <matplotlib.lines.Line2D at 0x20f70726080>,\n",
       " <matplotlib.lines.Line2D at 0x20f70726940>,\n",
       " <matplotlib.lines.Line2D at 0x20f70726cc0>,\n",
       " <matplotlib.lines.Line2D at 0x20f707262b0>]"
      ]
     },
     "execution_count": 328,
     "metadata": {},
     "output_type": "execute_result"
    },
    {
     "data": {
      "image/png": "[encoded data removed]",
      "text/plain": [
       "<Figure size 432x288 with 1 Axes>"
      ]
     },
     "metadata": {
      "needs_background": "light"
     },
     "output_type": "display_data"
    }
   ],
   "source": [
    "plt.title('Dow Jones 2017.06~2018.06')\n",
    "plt.plot(arr1[:,1:-1])"
   ]
  },
  {
   "cell_type": "code",
   "execution_count": 329,
   "metadata": {},
   "outputs": [
    {
     "data": {
      "text/plain": [
       "[<matplotlib.lines.Line2D at 0x20f6ec336a0>,\n",
       " <matplotlib.lines.Line2D at 0x20f6ec2dda0>,\n",
       " <matplotlib.lines.Line2D at 0x20f6ec2d518>,\n",
       " <matplotlib.lines.Line2D at 0x20f6ec277b8>,\n",
       " <matplotlib.lines.Line2D at 0x20f6ec14e48>]"
      ]
     },
     "execution_count": 329,
     "metadata": {},
     "output_type": "execute_result"
    },
    {
     "data": {
      "image/png": "[encoded data removed]",
      "text/plain": [
       "<Figure size 432x288 with 1 Axes>"
      ]
     },
     "metadata": {
      "needs_background": "light"
     },
     "output_type": "display_data"
    }
   ],
   "source": [
    "plt.title('Dow Jones 2018.06~2019.06')\n",
    "plt.plot(arr2[:,1:-1])"
   ]
  },
  {
   "cell_type": "code",
   "execution_count": 350,
   "metadata": {},
   "outputs": [
    {
     "data": {
      "text/plain": [
       "[<matplotlib.lines.Line2D at 0x20f6e2ecf28>]"
      ]
     },
     "execution_count": 350,
     "metadata": {},
     "output_type": "execute_result"
    },
    {
     "data": {
      "image/png": "[encoded data removed]",
      "text/plain": [
       "<Figure size 432x288 with 1 Axes>"
      ]
     },
     "metadata": {
      "needs_background": "light"
     },
     "output_type": "display_data"
    }
   ],
   "source": [
    "plt.plot(Vol,label='Vol', linestyle= '--')"
   ]
  }
 ],
 "metadata": {
  "kernelspec": {
   "display_name": "Python 3",
   "language": "python",
   "name": "python3"
  },
  "language_info": {
   "codemirror_mode": {
    "name": "ipython",
    "version": 3
   },
   "file_extension": ".py",
   "mimetype": "text/x-python",
   "name": "python",
   "nbconvert_exporter": "python",
   "pygments_lexer": "ipython3",
   "version": "3.7.3"
  }
 },
 "nbformat": 4,
 "nbformat_minor": 2
}
